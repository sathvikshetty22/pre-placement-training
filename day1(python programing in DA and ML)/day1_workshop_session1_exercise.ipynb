{
  "nbformat": 4,
  "nbformat_minor": 0,
  "metadata": {
    "colab": {
      "name": "day1 workshop session1 exercise.ipynb",
      "provenance": [],
      "collapsed_sections": []
    },
    "kernelspec": {
      "name": "python3",
      "display_name": "Python 3"
    }
  },
  "cells": [
    {
      "cell_type": "markdown",
      "metadata": {
        "id": "SbsT97sc_0xl",
        "colab_type": "text"
      },
      "source": [
        "#\tFind the compound interest for the given p,n,r  (formula : p(1+n*r/100)n )"
      ]
    },
    {
      "cell_type": "code",
      "metadata": {
        "id": "m5zzJ2Jm_2cm",
        "colab_type": "code",
        "outputId": "d56bf0b9-4702-4986-a80a-e2a916cf124c",
        "colab": {
          "base_uri": "https://localhost:8080/",
          "height": 84
        }
      },
      "source": [
        "def compound_interest(principle, rate, time):\n",
        "       CI = principle * (pow((1 + rate / 100), time))\n",
        "       print(\"Compound interest is\", CI) \n",
        "p=int(input(\"enter p value: \")) \n",
        "n=int(input(\"enter n value: \")) \n",
        "r=float(input(\"enter r value: \")) \n",
        "compound_interest(p, r, n)"
      ],
      "execution_count": 0,
      "outputs": [
        {
          "output_type": "stream",
          "text": [
            "enter p value: 1200\n",
            "enter n value: 2\n",
            "enter r value: 5.4\n",
            "Compound interest is 1333.0992\n"
          ],
          "name": "stdout"
        }
      ]
    },
    {
      "cell_type": "markdown",
      "metadata": {
        "id": "cRbH_Bs8A9Ek",
        "colab_type": "text"
      },
      "source": [
        "#\tConvert centegrade to farenheit  ( f= 9/5*c+32)"
      ]
    },
    {
      "cell_type": "code",
      "metadata": {
        "id": "mzwLansBBB4Z",
        "colab_type": "code",
        "outputId": "6aa16673-7b8c-4ea1-ff08-5e9763a8f508",
        "colab": {
          "base_uri": "https://localhost:8080/",
          "height": 50
        }
      },
      "source": [
        "celsius = float(input(\"Enter temperature in celsius: \"))\n",
        "fahrenheit = (celsius * 9/5) + 32\n",
        "print('%.2f Celsius is: %0.2f Fahrenheit' %(celsius, fahrenheit))"
      ],
      "execution_count": 0,
      "outputs": [
        {
          "output_type": "stream",
          "text": [
            "Enter temperature in celsius: 37\n",
            "37.00 Celsius is: 98.60 Fahrenheit\n"
          ],
          "name": "stdout"
        }
      ]
    },
    {
      "cell_type": "markdown",
      "metadata": {
        "id": "GK_6lqp3BNc-",
        "colab_type": "text"
      },
      "source": [
        "#\tFind the greater of two nos "
      ]
    },
    {
      "cell_type": "code",
      "metadata": {
        "id": "H__9UbmNBRPe",
        "colab_type": "code",
        "outputId": "0601a216-636c-418e-83b2-c6bba7f0e379",
        "colab": {
          "base_uri": "https://localhost:8080/",
          "height": 84
        }
      },
      "source": [
        "a=int(input(\"enter a num : \")) \n",
        "b=int(input(\"enter a num : \")) \n",
        "print(\"greater num is : \") \n",
        "if(a>b):  \n",
        "  print(a) \n",
        "else:  \n",
        "  print(b)"
      ],
      "execution_count": 0,
      "outputs": [
        {
          "output_type": "stream",
          "text": [
            "enter a num : 45\n",
            "enter a num : 32\n",
            "greater num is : \n",
            "45\n"
          ],
          "name": "stdout"
        }
      ]
    },
    {
      "cell_type": "markdown",
      "metadata": {
        "id": "SlGXKW-8BhZg",
        "colab_type": "text"
      },
      "source": [
        "#\tWrite a program for finding surface areas of cylinder and cone (2*PI*r*r*h, 1/3*PI*r*r*h) using function."
      ]
    },
    {
      "cell_type": "code",
      "metadata": {
        "id": "_abspUrcDkzV",
        "colab_type": "code",
        "outputId": "25ad7855-66f8-44c3-b40f-b5cc8759e77b",
        "colab": {
          "base_uri": "https://localhost:8080/",
          "height": 84
        }
      },
      "source": [
        "import math \n",
        "def Cylinder(r,h):  \n",
        "  return 2*math.pi*r*r*h \n",
        "def cone(r,h):  \n",
        "  return (1/3)*math.pi*r*r*h \n",
        "r=int(input(\"enter r value : \")) \n",
        "h=int(input(\"enter h value\")) \n",
        "print(\"surface area of cylinder is : %.2f\"%Cylinder(r,h)) \n",
        "print(\"surface area of cone is : %.2f \"%cone(r,h))"
      ],
      "execution_count": 0,
      "outputs": [
        {
          "output_type": "stream",
          "text": [
            "enter r value : 5\n",
            "enter h value3\n",
            "surface area of cylinder is : 471.24\n",
            "surface area of cone is : 78.54 \n"
          ],
          "name": "stdout"
        }
      ]
    },
    {
      "cell_type": "markdown",
      "metadata": {
        "id": "0qfCtS7kEFiX",
        "colab_type": "text"
      },
      "source": [
        "#\tFind the greatest of four nos ( using ‘and’ operator)   using function."
      ]
    },
    {
      "cell_type": "code",
      "metadata": {
        "id": "0_lcqBGxEMYq",
        "colab_type": "code",
        "outputId": "eded9fd0-7473-4b99-ee64-4e2d6394ac9a",
        "colab": {
          "base_uri": "https://localhost:8080/",
          "height": 118
        }
      },
      "source": [
        "a=int(input(\"enter 1st num: \")) \n",
        "b=int(input(\"enter 2nd num: \")) \n",
        "c=int(input(\"enter 3rd num: \")) \n",
        "d=int(input(\"enter 4th num: \")) \n",
        "print(\"greater num is : \") \n",
        "if(a>b and a>c and a>d):  \n",
        "  print(a) \n",
        "elif(b>c and b>d):  \n",
        "  print(b) \n",
        "elif(c>d):  \n",
        "  print(c) \n",
        "else:  print(d)"
      ],
      "execution_count": 0,
      "outputs": [
        {
          "output_type": "stream",
          "text": [
            "enter 1st num: 23\n",
            "enter 2nd num: 34\n",
            "enter 3rd num: 12\n",
            "enter 4th num: 53\n",
            "greater num is : \n",
            "53\n"
          ],
          "name": "stdout"
        }
      ]
    },
    {
      "cell_type": "markdown",
      "metadata": {
        "id": "WZmo1IM-EgYT",
        "colab_type": "text"
      },
      "source": [
        "#\tWrite a  menu program to perform the operations ( ODDorEven, Factorial, ODDNoUptoN, PrimeUptoN ) using functions for two nos with  menu choice"
      ]
    },
    {
      "cell_type": "markdown",
      "metadata": {
        "id": "-uUBLpZbWsrG",
        "colab_type": "text"
      },
      "source": [
        ""
      ]
    },
    {
      "cell_type": "code",
      "metadata": {
        "id": "wRWT5F4KXKJL",
        "colab_type": "code",
        "colab": {
          "base_uri": "https://localhost:8080/",
          "height": 1000
        },
        "outputId": "86c4bf11-d154-44dd-8bc1-e314142592b3"
      },
      "source": [
        "loop = 1 # 1 means loop; anything else means don't loop.\n",
        "choice = 0 # This variable holds the user's choice in the menu\n",
        "\n",
        "def odd(a):\n",
        "    if a%2==0:\n",
        "      print(\"Even\")\n",
        "    else:\n",
        "      print(\"Odd\") \n",
        "def factorial(a):\n",
        "    if a==1:\n",
        "      return a\n",
        "    else:\n",
        "      return a*factorial(a-1)\n",
        "def oddton(a):\n",
        "    for i in range(1,a,2):\n",
        "      print(i,end=\" \")\n",
        "def prime(a,b):\n",
        "    for i in range(a,b+1):\n",
        "      if i>1:\n",
        "          for x in range(2,i):\n",
        "             if((i % x)==0):\n",
        "                break\n",
        "          else:\n",
        "             print(x,end=\" \")\n",
        "\n",
        "while loop == 1:\n",
        "    # Print what options you have\n",
        "    print (\"Choose\")\n",
        "    print (\"your options are:\")\n",
        "    print (\" \")\n",
        "    print(\"1) Odd or Even\")\n",
        "    print(\"2) Factorial\")\n",
        "    print(\"3) Odd upto N\")\n",
        "    print(\"4) Prime upto N\")\n",
        "    print(\"5) Quit\")\n",
        "    print(\" \")\n",
        "    try:\n",
        "        choice = int(input(\"Choose your option: \"))\n",
        "    except:\n",
        "        print('please enter a valid number for option')\n",
        "    print(\" \")\n",
        "    print(\" \")\n",
        "    if choice == 1:\n",
        "        a = int(input(\"Enter no: \"))\n",
        "        print(odd(a))\n",
        "    elif choice == 2:\n",
        "        a = int(input(\"Enter no: \"))\n",
        "        print(factorial(a))\n",
        "    elif choice == 3:\n",
        "        a = int(input(\"Enter no: \"))\n",
        "        print(\"answer is \",oddton(a))\n",
        "    elif choice == 4:\n",
        "        a = int(input(\"Enter no: \"))\n",
        "        b = int(input(\"Enter no: \"))\n",
        "        print(prime(a,b))    \n",
        "    elif choice == 5:\n",
        "        loop = 0  \n",
        "    else:\n",
        "        print(\"please choice a valid option from 1 to 5\")\n",
        "        choice=0\n",
        "print (\"Thank-you!\")"
      ],
      "execution_count": 1,
      "outputs": [
        {
          "output_type": "stream",
          "text": [
            "Choose\n",
            "your options are:\n",
            " \n",
            "1) Odd or Even\n",
            "2) Factorial\n",
            "3) Odd upto N\n",
            "4) Prime upto N\n",
            "5) Quit\n",
            " \n",
            "Choose your option: 1\n",
            " \n",
            " \n",
            "Enter no: 35\n",
            "Odd\n",
            "None\n",
            "Choose\n",
            "your options are:\n",
            " \n",
            "1) Odd or Even\n",
            "2) Factorial\n",
            "3) Odd upto N\n",
            "4) Prime upto N\n",
            "5) Quit\n",
            " \n",
            "Choose your option: 2\n",
            " \n",
            " \n",
            "Enter no: 4\n",
            "24\n",
            "Choose\n",
            "your options are:\n",
            " \n",
            "1) Odd or Even\n",
            "2) Factorial\n",
            "3) Odd upto N\n",
            "4) Prime upto N\n",
            "5) Quit\n",
            " \n",
            "Choose your option: 3\n",
            " \n",
            " \n",
            "Enter no: 3\n",
            "1 answer is  None\n",
            "Choose\n",
            "your options are:\n",
            " \n",
            "1) Odd or Even\n",
            "2) Factorial\n",
            "3) Odd upto N\n",
            "4) Prime upto N\n",
            "5) Quit\n",
            " \n",
            "Choose your option: 4\n",
            " \n",
            " \n",
            "Enter no: 5\n",
            "Enter no: 9\n",
            "4 6 None\n",
            "Choose\n",
            "your options are:\n",
            " \n",
            "1) Odd or Even\n",
            "2) Factorial\n",
            "3) Odd upto N\n",
            "4) Prime upto N\n",
            "5) Quit\n",
            " \n",
            "Choose your option: 5\n",
            " \n",
            " \n",
            "Thank-you!\n"
          ],
          "name": "stdout"
        }
      ]
    }
  ]
}
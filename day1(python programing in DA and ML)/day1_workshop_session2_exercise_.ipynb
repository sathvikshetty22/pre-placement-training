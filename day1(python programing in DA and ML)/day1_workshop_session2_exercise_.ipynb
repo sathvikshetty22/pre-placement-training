{
  "nbformat": 4,
  "nbformat_minor": 0,
  "metadata": {
    "colab": {
      "name": "day1 workshop session2 exercise .ipynb",
      "provenance": [],
      "collapsed_sections": []
    },
    "kernelspec": {
      "name": "python3",
      "display_name": "Python 3"
    }
  },
  "cells": [
    {
      "cell_type": "markdown",
      "metadata": {
        "id": "uHD78CmduKK8",
        "colab_type": "text"
      },
      "source": [
        "1 Write a program to print the triangle \n",
        "\n"
      ]
    },
    {
      "cell_type": "code",
      "metadata": {
        "id": "rq_YhkTcw7YW",
        "colab_type": "code",
        "colab": {
          "base_uri": "https://localhost:8080/",
          "height": 101
        },
        "outputId": "6e8c7101-3df4-4a22-8b6a-a862d9865a72"
      },
      "source": [
        "rows = 4\n",
        "for i in range(0, rows+1):\n",
        "    for j in range(i, i+i , 1):\n",
        "        print(j, end=' ')\n",
        "    print()"
      ],
      "execution_count": 45,
      "outputs": [
        {
          "output_type": "stream",
          "text": [
            "\n",
            "1 \n",
            "2 3 \n",
            "3 4 5 \n",
            "4 5 6 7 \n"
          ],
          "name": "stdout"
        }
      ]
    },
    {
      "cell_type": "markdown",
      "metadata": {
        "id": "LAy56nJr46Tz",
        "colab_type": "text"
      },
      "source": [
        ""
      ]
    },
    {
      "cell_type": "code",
      "metadata": {
        "id": "1-_-BVPd4ZQ2",
        "colab_type": "code",
        "colab": {
          "base_uri": "https://localhost:8080/",
          "height": 101
        },
        "outputId": "a170505b-5d54-471f-d113-445ad5d05bd2"
      },
      "source": [
        "rows = 4\n",
        "for i in range(0, rows+1):\n",
        "    for j in range(i, i+i , 1):\n",
        "        print('*', end=' ')\n",
        "    print()"
      ],
      "execution_count": 46,
      "outputs": [
        {
          "output_type": "stream",
          "text": [
            "\n",
            "* \n",
            "* * \n",
            "* * * \n",
            "* * * * \n"
          ],
          "name": "stdout"
        }
      ]
    },
    {
      "cell_type": "code",
      "metadata": {
        "id": "OuzCUo8L4jXo",
        "colab_type": "code",
        "colab": {
          "base_uri": "https://localhost:8080/",
          "height": 101
        },
        "outputId": "3919e288-64be-4fbd-ceac-0d0497378411"
      },
      "source": [
        "rows = 5\n",
        "for i in range(0, rows):\n",
        "    for j in range(rows-i , rows+1 , 1):\n",
        "        print(j, end=' ')\n",
        "    print()"
      ],
      "execution_count": 47,
      "outputs": [
        {
          "output_type": "stream",
          "text": [
            "5 \n",
            "4 5 \n",
            "3 4 5 \n",
            "2 3 4 5 \n",
            "1 2 3 4 5 \n"
          ],
          "name": "stdout"
        }
      ]
    },
    {
      "cell_type": "code",
      "metadata": {
        "id": "hQDztVFf4oi1",
        "colab_type": "code",
        "colab": {
          "base_uri": "https://localhost:8080/",
          "height": 118
        },
        "outputId": "74210be8-8186-4bcd-ff9c-b86a9de7a78b"
      },
      "source": [
        "rows = 5\n",
        "for i in range(0, rows+1):\n",
        "    for j in range(rows-i, 0 , -1):\n",
        "        print(j, end=' ')\n",
        "    print()"
      ],
      "execution_count": 48,
      "outputs": [
        {
          "output_type": "stream",
          "text": [
            "5 4 3 2 1 \n",
            "4 3 2 1 \n",
            "3 2 1 \n",
            "2 1 \n",
            "1 \n",
            "\n"
          ],
          "name": "stdout"
        }
      ]
    },
    {
      "cell_type": "code",
      "metadata": {
        "id": "NpJ9u2y_4va4",
        "colab_type": "code",
        "colab": {
          "base_uri": "https://localhost:8080/",
          "height": 134
        },
        "outputId": "abc70985-a2b1-4483-cef8-53317e7d7edd"
      },
      "source": [
        "rows = 4\n",
        "for i in range(1, rows+1):\n",
        "    for j in range(i, rows+1 , 1):\n",
        "        print(j, end=' ')\n",
        "    print()\n",
        "for i in range(1,rows):\n",
        "  for j in range(rows-i,rows+1,1):\n",
        "    print(j,end=\" \")\n",
        "  print()"
      ],
      "execution_count": 49,
      "outputs": [
        {
          "output_type": "stream",
          "text": [
            "1 2 3 4 \n",
            "2 3 4 \n",
            "3 4 \n",
            "4 \n",
            "3 4 \n",
            "2 3 4 \n",
            "1 2 3 4 \n"
          ],
          "name": "stdout"
        }
      ]
    },
    {
      "cell_type": "markdown",
      "metadata": {
        "id": "EhpfkUfD5Ayi",
        "colab_type": "text"
      },
      "source": [
        "# Find the length of a string without using len functions"
      ]
    },
    {
      "cell_type": "code",
      "metadata": {
        "id": "CG8qVZcu5C9b",
        "colab_type": "code",
        "colab": {
          "base_uri": "https://localhost:8080/",
          "height": 67
        },
        "outputId": "608ce22f-6dbf-4dc8-a862-eccc984c9e61"
      },
      "source": [
        "string=str(input(\"Enter string:\"))\n",
        "count=0\n",
        "for i in string:\n",
        "      count=count+1\n",
        "print(\"Length of the string is:\")\n",
        "print(count)"
      ],
      "execution_count": 50,
      "outputs": [
        {
          "output_type": "stream",
          "text": [
            "Enter string:python\n",
            "Length of the string is:\n",
            "6\n"
          ],
          "name": "stdout"
        }
      ]
    },
    {
      "cell_type": "markdown",
      "metadata": {
        "id": "J8K8xn0S5R9O",
        "colab_type": "text"
      },
      "source": [
        "#Find the no of words and characters in a string"
      ]
    },
    {
      "cell_type": "code",
      "metadata": {
        "id": "Sk8_ctDv5W63",
        "colab_type": "code",
        "colab": {
          "base_uri": "https://localhost:8080/",
          "height": 67
        },
        "outputId": "5805c46e-fc1d-418f-c994-fed689e139bc"
      },
      "source": [
        "def count(s):\n",
        "  c=0\n",
        "  a=s.split()\n",
        "  v=len(a)\n",
        "  for i in a:\n",
        "    c=c+len(i)\n",
        "  print(\"word count=\",v)\n",
        "  print(\"sentence count=\",c)\n",
        "s=str(input(\"enter the string:\"))\n",
        "count(s)"
      ],
      "execution_count": 52,
      "outputs": [
        {
          "output_type": "stream",
          "text": [
            "enter the string:this is python program \n",
            "word count= 4\n",
            "sentence count= 19\n"
          ],
          "name": "stdout"
        }
      ]
    },
    {
      "cell_type": "markdown",
      "metadata": {
        "id": "B_1vfqiN7b6v",
        "colab_type": "text"
      },
      "source": [
        "# Find the no of occurrences of a word in a string"
      ]
    },
    {
      "cell_type": "code",
      "metadata": {
        "id": "dy1TwzEX7dg1",
        "colab_type": "code",
        "colab": {
          "base_uri": "https://localhost:8080/",
          "height": 67
        },
        "outputId": "56f5204a-e6a6-450e-827b-b9e04db809d2"
      },
      "source": [
        "def countOccurences(str, word): \n",
        "    a = str.split(\" \")  \n",
        "    count = 0\n",
        "    for i in range(0, len(a)):   \n",
        "        if (word == a[i]): \n",
        "           count = count + 1\n",
        "    return count        \n",
        "string =str(input(\"enter the string\"))\n",
        "word =str(input(\"enter the word\"))\n",
        "print(countOccurences(string, word))"
      ],
      "execution_count": 53,
      "outputs": [
        {
          "output_type": "stream",
          "text": [
            "enter the stringthis is a is a python program\n",
            "enter the wordis\n",
            "2\n"
          ],
          "name": "stdout"
        }
      ]
    }
  ]
}